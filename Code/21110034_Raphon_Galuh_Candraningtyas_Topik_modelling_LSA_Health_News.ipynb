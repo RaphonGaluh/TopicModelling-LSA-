{
  "nbformat": 4,
  "nbformat_minor": 0,
  "metadata": {
    "colab": {
      "provenance": [],
      "include_colab_link": true
    },
    "kernelspec": {
      "name": "python3",
      "display_name": "Python 3"
    },
    "language_info": {
      "name": "python"
    }
  },
  "cells": [
    {
      "cell_type": "markdown",
      "metadata": {
        "id": "view-in-github",
        "colab_type": "text"
      },
      "source": [
        "<a href=\"https://colab.research.google.com/github/RaphonGaluh/TopicModelling-LSA-/blob/main/Code/21110034_Raphon_Galuh_Candraningtyas_Topik_modelling_LSA_Health_News.ipynb\" target=\"_parent\"><img src=\"https://colab.research.google.com/assets/colab-badge.svg\" alt=\"Open In Colab\"/></a>"
      ]
    },
    {
      "cell_type": "markdown",
      "source": [
        "**Nama : Raphon Galuh Candraningtyas** <br>\n",
        "**NIM : 21110034**"
      ],
      "metadata": {
        "id": "-cxTqWpzBcbF"
      }
    },
    {
      "cell_type": "markdown",
      "source": [
        "1. Unduh Dataset health news berikut.<br>\n",
        "\n",
        "2. Lakukan pembersihan data dan penggabungan data. <br>\n",
        "\n",
        "3. Lakukan topic modeling analysis menggunakan LSA. Lakukan percobaan menggunakan 5-10 topic dan analisis topic yang paling sering dibicarakan dalam setiap topik. <br>\n",
        "\n",
        "4. Unggal hasil pekerjaan Anda, file ipnb, pdf berupa hasil kode dan screen shoot hasil running program. <br>"
      ],
      "metadata": {
        "id": "u3EJ3_JBGGFe"
      }
    },
    {
      "cell_type": "code",
      "execution_count": null,
      "metadata": {
        "colab": {
          "base_uri": "https://localhost:8080/"
        },
        "id": "fYI7X9OOBaai",
        "outputId": "3da23e1b-84a1-4d28-c659-f7d7e658d377"
      },
      "outputs": [
        {
          "output_type": "stream",
          "name": "stderr",
          "text": [
            "[nltk_data] Downloading package stopwords to /root/nltk_data...\n",
            "[nltk_data]   Package stopwords is already up-to-date!\n",
            "[nltk_data] Downloading package wordnet to /root/nltk_data...\n",
            "[nltk_data]   Package wordnet is already up-to-date!\n",
            "[nltk_data] Downloading package omw-1.4 to /root/nltk_data...\n",
            "[nltk_data]   Package omw-1.4 is already up-to-date!\n"
          ]
        },
        {
          "output_type": "execute_result",
          "data": {
            "text/plain": [
              "True"
            ]
          },
          "metadata": {},
          "execution_count": 241
        }
      ],
      "source": [
        "import pandas as pd\n",
        "import re\n",
        "import nltk.corpus\n",
        "import numpy as np\n",
        "import pandas as pd\n",
        "import matplotlib.pyplot as plt\n",
        "from matplotlib import style\n",
        "import seaborn as sns\n",
        "nltk.download('stopwords')\n",
        "from nltk.corpus import stopwords\n",
        "nltk.download('wordnet')\n",
        "nltk.download('omw-1.4')"
      ]
    },
    {
      "cell_type": "markdown",
      "source": [
        "**LOAD DATA**"
      ],
      "metadata": {
        "id": "QALDsQ0YB9xg"
      }
    },
    {
      "cell_type": "code",
      "source": [
        "data = pd.read_fwf(\"/content/goodhealth.txt\", header=None)\n",
        "data"
      ],
      "metadata": {
        "colab": {
          "base_uri": "https://localhost:8080/",
          "height": 502
        },
        "id": "7gHlPQbiB1Gk",
        "outputId": "0e9908fa-edd6-40ca-d627-4af1913b22bc"
      },
      "execution_count": null,
      "outputs": [
        {
          "output_type": "execute_result",
          "data": {
            "text/plain": [
              "                           0    1   2         3  4  \\\n",
              "0     577117109701967872|Sun  Mar  15  14:40:15  0   \n",
              "1     577083140977651712|Sun  Mar  15  12:25:17  0   \n",
              "2     577040308669669376|Sun  Mar  15  09:35:05  0   \n",
              "3     577011455389757440|Sun  Mar  15  07:40:25  0   \n",
              "4     576979914592804864|Sun  Mar  15  05:35:06  0   \n",
              "...                      ...  ...  ..       ... ..   \n",
              "7859   80629372100415488|Tue   un   4   3:35:14  0   \n",
              "7860   80629263631527936|Tue   un   4   3:34:49  0   \n",
              "7861   80390283203842048|Mon   un   3   1:45:11  0   \n",
              "7862   80371370009174016|Mon   un   3   0:30:02  0   \n",
              "7863   80352600800763904|Mon   un   3   9:15:27  0   \n",
              "\n",
              "                                                      5  \n",
              "0     2015|It’s not hard to get a little cardio in a...  \n",
              "1     2015|Beauty really does come from within. Disc...  \n",
              "2     2015|Busted! 15 myths and facts you really nee...  \n",
              "3     2015|Get rid of a puffy tummy! See the 13 best...  \n",
              "4     2015|Pillow talk: Find the perfect pillow for ...  \n",
              "...                                                 ...  \n",
              "7859  011|Living With Pets May Protect Infants From ...  \n",
              "7860  011|@SarahCampus We know the feeling! Here are...  \n",
              "7861  011|The Simple Secret to Great Sleep | Here's ...  \n",
              "7862  011|Hot days call for refreshing drinks. Whip ...  \n",
              "7863  011|RT @MSNHealth: The Mediterranean? The Volu...  \n",
              "\n",
              "[7864 rows x 6 columns]"
            ],
            "text/html": [
              "\n",
              "  <div id=\"df-e21793ef-7cdd-47d8-8f7e-66f5efaa28d3\">\n",
              "    <div class=\"colab-df-container\">\n",
              "      <div>\n",
              "<style scoped>\n",
              "    .dataframe tbody tr th:only-of-type {\n",
              "        vertical-align: middle;\n",
              "    }\n",
              "\n",
              "    .dataframe tbody tr th {\n",
              "        vertical-align: top;\n",
              "    }\n",
              "\n",
              "    .dataframe thead th {\n",
              "        text-align: right;\n",
              "    }\n",
              "</style>\n",
              "<table border=\"1\" class=\"dataframe\">\n",
              "  <thead>\n",
              "    <tr style=\"text-align: right;\">\n",
              "      <th></th>\n",
              "      <th>0</th>\n",
              "      <th>1</th>\n",
              "      <th>2</th>\n",
              "      <th>3</th>\n",
              "      <th>4</th>\n",
              "      <th>5</th>\n",
              "    </tr>\n",
              "  </thead>\n",
              "  <tbody>\n",
              "    <tr>\n",
              "      <th>0</th>\n",
              "      <td>577117109701967872|Sun</td>\n",
              "      <td>Mar</td>\n",
              "      <td>15</td>\n",
              "      <td>14:40:15</td>\n",
              "      <td>0</td>\n",
              "      <td>2015|It’s not hard to get a little cardio in a...</td>\n",
              "    </tr>\n",
              "    <tr>\n",
              "      <th>1</th>\n",
              "      <td>577083140977651712|Sun</td>\n",
              "      <td>Mar</td>\n",
              "      <td>15</td>\n",
              "      <td>12:25:17</td>\n",
              "      <td>0</td>\n",
              "      <td>2015|Beauty really does come from within. Disc...</td>\n",
              "    </tr>\n",
              "    <tr>\n",
              "      <th>2</th>\n",
              "      <td>577040308669669376|Sun</td>\n",
              "      <td>Mar</td>\n",
              "      <td>15</td>\n",
              "      <td>09:35:05</td>\n",
              "      <td>0</td>\n",
              "      <td>2015|Busted! 15 myths and facts you really nee...</td>\n",
              "    </tr>\n",
              "    <tr>\n",
              "      <th>3</th>\n",
              "      <td>577011455389757440|Sun</td>\n",
              "      <td>Mar</td>\n",
              "      <td>15</td>\n",
              "      <td>07:40:25</td>\n",
              "      <td>0</td>\n",
              "      <td>2015|Get rid of a puffy tummy! See the 13 best...</td>\n",
              "    </tr>\n",
              "    <tr>\n",
              "      <th>4</th>\n",
              "      <td>576979914592804864|Sun</td>\n",
              "      <td>Mar</td>\n",
              "      <td>15</td>\n",
              "      <td>05:35:06</td>\n",
              "      <td>0</td>\n",
              "      <td>2015|Pillow talk: Find the perfect pillow for ...</td>\n",
              "    </tr>\n",
              "    <tr>\n",
              "      <th>...</th>\n",
              "      <td>...</td>\n",
              "      <td>...</td>\n",
              "      <td>...</td>\n",
              "      <td>...</td>\n",
              "      <td>...</td>\n",
              "      <td>...</td>\n",
              "    </tr>\n",
              "    <tr>\n",
              "      <th>7859</th>\n",
              "      <td>80629372100415488|Tue</td>\n",
              "      <td>un</td>\n",
              "      <td>4</td>\n",
              "      <td>3:35:14</td>\n",
              "      <td>0</td>\n",
              "      <td>011|Living With Pets May Protect Infants From ...</td>\n",
              "    </tr>\n",
              "    <tr>\n",
              "      <th>7860</th>\n",
              "      <td>80629263631527936|Tue</td>\n",
              "      <td>un</td>\n",
              "      <td>4</td>\n",
              "      <td>3:34:49</td>\n",
              "      <td>0</td>\n",
              "      <td>011|@SarahCampus We know the feeling! Here are...</td>\n",
              "    </tr>\n",
              "    <tr>\n",
              "      <th>7861</th>\n",
              "      <td>80390283203842048|Mon</td>\n",
              "      <td>un</td>\n",
              "      <td>3</td>\n",
              "      <td>1:45:11</td>\n",
              "      <td>0</td>\n",
              "      <td>011|The Simple Secret to Great Sleep | Here's ...</td>\n",
              "    </tr>\n",
              "    <tr>\n",
              "      <th>7862</th>\n",
              "      <td>80371370009174016|Mon</td>\n",
              "      <td>un</td>\n",
              "      <td>3</td>\n",
              "      <td>0:30:02</td>\n",
              "      <td>0</td>\n",
              "      <td>011|Hot days call for refreshing drinks. Whip ...</td>\n",
              "    </tr>\n",
              "    <tr>\n",
              "      <th>7863</th>\n",
              "      <td>80352600800763904|Mon</td>\n",
              "      <td>un</td>\n",
              "      <td>3</td>\n",
              "      <td>9:15:27</td>\n",
              "      <td>0</td>\n",
              "      <td>011|RT @MSNHealth: The Mediterranean? The Volu...</td>\n",
              "    </tr>\n",
              "  </tbody>\n",
              "</table>\n",
              "<p>7864 rows × 6 columns</p>\n",
              "</div>\n",
              "      <button class=\"colab-df-convert\" onclick=\"convertToInteractive('df-e21793ef-7cdd-47d8-8f7e-66f5efaa28d3')\"\n",
              "              title=\"Convert this dataframe to an interactive table.\"\n",
              "              style=\"display:none;\">\n",
              "        \n",
              "  <svg xmlns=\"http://www.w3.org/2000/svg\" height=\"24px\"viewBox=\"0 0 24 24\"\n",
              "       width=\"24px\">\n",
              "    <path d=\"M0 0h24v24H0V0z\" fill=\"none\"/>\n",
              "    <path d=\"M18.56 5.44l.94 2.06.94-2.06 2.06-.94-2.06-.94-.94-2.06-.94 2.06-2.06.94zm-11 1L8.5 8.5l.94-2.06 2.06-.94-2.06-.94L8.5 2.5l-.94 2.06-2.06.94zm10 10l.94 2.06.94-2.06 2.06-.94-2.06-.94-.94-2.06-.94 2.06-2.06.94z\"/><path d=\"M17.41 7.96l-1.37-1.37c-.4-.4-.92-.59-1.43-.59-.52 0-1.04.2-1.43.59L10.3 9.45l-7.72 7.72c-.78.78-.78 2.05 0 2.83L4 21.41c.39.39.9.59 1.41.59.51 0 1.02-.2 1.41-.59l7.78-7.78 2.81-2.81c.8-.78.8-2.07 0-2.86zM5.41 20L4 18.59l7.72-7.72 1.47 1.35L5.41 20z\"/>\n",
              "  </svg>\n",
              "      </button>\n",
              "      \n",
              "  <style>\n",
              "    .colab-df-container {\n",
              "      display:flex;\n",
              "      flex-wrap:wrap;\n",
              "      gap: 12px;\n",
              "    }\n",
              "\n",
              "    .colab-df-convert {\n",
              "      background-color: #E8F0FE;\n",
              "      border: none;\n",
              "      border-radius: 50%;\n",
              "      cursor: pointer;\n",
              "      display: none;\n",
              "      fill: #1967D2;\n",
              "      height: 32px;\n",
              "      padding: 0 0 0 0;\n",
              "      width: 32px;\n",
              "    }\n",
              "\n",
              "    .colab-df-convert:hover {\n",
              "      background-color: #E2EBFA;\n",
              "      box-shadow: 0px 1px 2px rgba(60, 64, 67, 0.3), 0px 1px 3px 1px rgba(60, 64, 67, 0.15);\n",
              "      fill: #174EA6;\n",
              "    }\n",
              "\n",
              "    [theme=dark] .colab-df-convert {\n",
              "      background-color: #3B4455;\n",
              "      fill: #D2E3FC;\n",
              "    }\n",
              "\n",
              "    [theme=dark] .colab-df-convert:hover {\n",
              "      background-color: #434B5C;\n",
              "      box-shadow: 0px 1px 3px 1px rgba(0, 0, 0, 0.15);\n",
              "      filter: drop-shadow(0px 1px 2px rgba(0, 0, 0, 0.3));\n",
              "      fill: #FFFFFF;\n",
              "    }\n",
              "  </style>\n",
              "\n",
              "      <script>\n",
              "        const buttonEl =\n",
              "          document.querySelector('#df-e21793ef-7cdd-47d8-8f7e-66f5efaa28d3 button.colab-df-convert');\n",
              "        buttonEl.style.display =\n",
              "          google.colab.kernel.accessAllowed ? 'block' : 'none';\n",
              "\n",
              "        async function convertToInteractive(key) {\n",
              "          const element = document.querySelector('#df-e21793ef-7cdd-47d8-8f7e-66f5efaa28d3');\n",
              "          const dataTable =\n",
              "            await google.colab.kernel.invokeFunction('convertToInteractive',\n",
              "                                                     [key], {});\n",
              "          if (!dataTable) return;\n",
              "\n",
              "          const docLinkHtml = 'Like what you see? Visit the ' +\n",
              "            '<a target=\"_blank\" href=https://colab.research.google.com/notebooks/data_table.ipynb>data table notebook</a>'\n",
              "            + ' to learn more about interactive tables.';\n",
              "          element.innerHTML = '';\n",
              "          dataTable['output_type'] = 'display_data';\n",
              "          await google.colab.output.renderOutput(dataTable, element);\n",
              "          const docLink = document.createElement('div');\n",
              "          docLink.innerHTML = docLinkHtml;\n",
              "          element.appendChild(docLink);\n",
              "        }\n",
              "      </script>\n",
              "    </div>\n",
              "  </div>\n",
              "  "
            ]
          },
          "metadata": {},
          "execution_count": 242
        }
      ]
    },
    {
      "cell_type": "code",
      "source": [
        "data.drop([0,1,2,3,4], axis=1,inplace=True)"
      ],
      "metadata": {
        "id": "cPBQQkOE6cjw"
      },
      "execution_count": null,
      "outputs": []
    },
    {
      "cell_type": "code",
      "source": [
        "data"
      ],
      "metadata": {
        "colab": {
          "base_uri": "https://localhost:8080/",
          "height": 423
        },
        "id": "Cxeald9p9S1c",
        "outputId": "61c3f2d4-ab08-4597-f66f-5dff8f6f25b1"
      },
      "execution_count": null,
      "outputs": [
        {
          "output_type": "execute_result",
          "data": {
            "text/plain": [
              "                                                      5\n",
              "0     2015|It’s not hard to get a little cardio in a...\n",
              "1     2015|Beauty really does come from within. Disc...\n",
              "2     2015|Busted! 15 myths and facts you really nee...\n",
              "3     2015|Get rid of a puffy tummy! See the 13 best...\n",
              "4     2015|Pillow talk: Find the perfect pillow for ...\n",
              "...                                                 ...\n",
              "7859  011|Living With Pets May Protect Infants From ...\n",
              "7860  011|@SarahCampus We know the feeling! Here are...\n",
              "7861  011|The Simple Secret to Great Sleep | Here's ...\n",
              "7862  011|Hot days call for refreshing drinks. Whip ...\n",
              "7863  011|RT @MSNHealth: The Mediterranean? The Volu...\n",
              "\n",
              "[7864 rows x 1 columns]"
            ],
            "text/html": [
              "\n",
              "  <div id=\"df-536baf7b-94f0-4421-a48f-f89809b7b646\">\n",
              "    <div class=\"colab-df-container\">\n",
              "      <div>\n",
              "<style scoped>\n",
              "    .dataframe tbody tr th:only-of-type {\n",
              "        vertical-align: middle;\n",
              "    }\n",
              "\n",
              "    .dataframe tbody tr th {\n",
              "        vertical-align: top;\n",
              "    }\n",
              "\n",
              "    .dataframe thead th {\n",
              "        text-align: right;\n",
              "    }\n",
              "</style>\n",
              "<table border=\"1\" class=\"dataframe\">\n",
              "  <thead>\n",
              "    <tr style=\"text-align: right;\">\n",
              "      <th></th>\n",
              "      <th>5</th>\n",
              "    </tr>\n",
              "  </thead>\n",
              "  <tbody>\n",
              "    <tr>\n",
              "      <th>0</th>\n",
              "      <td>2015|It’s not hard to get a little cardio in a...</td>\n",
              "    </tr>\n",
              "    <tr>\n",
              "      <th>1</th>\n",
              "      <td>2015|Beauty really does come from within. Disc...</td>\n",
              "    </tr>\n",
              "    <tr>\n",
              "      <th>2</th>\n",
              "      <td>2015|Busted! 15 myths and facts you really nee...</td>\n",
              "    </tr>\n",
              "    <tr>\n",
              "      <th>3</th>\n",
              "      <td>2015|Get rid of a puffy tummy! See the 13 best...</td>\n",
              "    </tr>\n",
              "    <tr>\n",
              "      <th>4</th>\n",
              "      <td>2015|Pillow talk: Find the perfect pillow for ...</td>\n",
              "    </tr>\n",
              "    <tr>\n",
              "      <th>...</th>\n",
              "      <td>...</td>\n",
              "    </tr>\n",
              "    <tr>\n",
              "      <th>7859</th>\n",
              "      <td>011|Living With Pets May Protect Infants From ...</td>\n",
              "    </tr>\n",
              "    <tr>\n",
              "      <th>7860</th>\n",
              "      <td>011|@SarahCampus We know the feeling! Here are...</td>\n",
              "    </tr>\n",
              "    <tr>\n",
              "      <th>7861</th>\n",
              "      <td>011|The Simple Secret to Great Sleep | Here's ...</td>\n",
              "    </tr>\n",
              "    <tr>\n",
              "      <th>7862</th>\n",
              "      <td>011|Hot days call for refreshing drinks. Whip ...</td>\n",
              "    </tr>\n",
              "    <tr>\n",
              "      <th>7863</th>\n",
              "      <td>011|RT @MSNHealth: The Mediterranean? The Volu...</td>\n",
              "    </tr>\n",
              "  </tbody>\n",
              "</table>\n",
              "<p>7864 rows × 1 columns</p>\n",
              "</div>\n",
              "      <button class=\"colab-df-convert\" onclick=\"convertToInteractive('df-536baf7b-94f0-4421-a48f-f89809b7b646')\"\n",
              "              title=\"Convert this dataframe to an interactive table.\"\n",
              "              style=\"display:none;\">\n",
              "        \n",
              "  <svg xmlns=\"http://www.w3.org/2000/svg\" height=\"24px\"viewBox=\"0 0 24 24\"\n",
              "       width=\"24px\">\n",
              "    <path d=\"M0 0h24v24H0V0z\" fill=\"none\"/>\n",
              "    <path d=\"M18.56 5.44l.94 2.06.94-2.06 2.06-.94-2.06-.94-.94-2.06-.94 2.06-2.06.94zm-11 1L8.5 8.5l.94-2.06 2.06-.94-2.06-.94L8.5 2.5l-.94 2.06-2.06.94zm10 10l.94 2.06.94-2.06 2.06-.94-2.06-.94-.94-2.06-.94 2.06-2.06.94z\"/><path d=\"M17.41 7.96l-1.37-1.37c-.4-.4-.92-.59-1.43-.59-.52 0-1.04.2-1.43.59L10.3 9.45l-7.72 7.72c-.78.78-.78 2.05 0 2.83L4 21.41c.39.39.9.59 1.41.59.51 0 1.02-.2 1.41-.59l7.78-7.78 2.81-2.81c.8-.78.8-2.07 0-2.86zM5.41 20L4 18.59l7.72-7.72 1.47 1.35L5.41 20z\"/>\n",
              "  </svg>\n",
              "      </button>\n",
              "      \n",
              "  <style>\n",
              "    .colab-df-container {\n",
              "      display:flex;\n",
              "      flex-wrap:wrap;\n",
              "      gap: 12px;\n",
              "    }\n",
              "\n",
              "    .colab-df-convert {\n",
              "      background-color: #E8F0FE;\n",
              "      border: none;\n",
              "      border-radius: 50%;\n",
              "      cursor: pointer;\n",
              "      display: none;\n",
              "      fill: #1967D2;\n",
              "      height: 32px;\n",
              "      padding: 0 0 0 0;\n",
              "      width: 32px;\n",
              "    }\n",
              "\n",
              "    .colab-df-convert:hover {\n",
              "      background-color: #E2EBFA;\n",
              "      box-shadow: 0px 1px 2px rgba(60, 64, 67, 0.3), 0px 1px 3px 1px rgba(60, 64, 67, 0.15);\n",
              "      fill: #174EA6;\n",
              "    }\n",
              "\n",
              "    [theme=dark] .colab-df-convert {\n",
              "      background-color: #3B4455;\n",
              "      fill: #D2E3FC;\n",
              "    }\n",
              "\n",
              "    [theme=dark] .colab-df-convert:hover {\n",
              "      background-color: #434B5C;\n",
              "      box-shadow: 0px 1px 3px 1px rgba(0, 0, 0, 0.15);\n",
              "      filter: drop-shadow(0px 1px 2px rgba(0, 0, 0, 0.3));\n",
              "      fill: #FFFFFF;\n",
              "    }\n",
              "  </style>\n",
              "\n",
              "      <script>\n",
              "        const buttonEl =\n",
              "          document.querySelector('#df-536baf7b-94f0-4421-a48f-f89809b7b646 button.colab-df-convert');\n",
              "        buttonEl.style.display =\n",
              "          google.colab.kernel.accessAllowed ? 'block' : 'none';\n",
              "\n",
              "        async function convertToInteractive(key) {\n",
              "          const element = document.querySelector('#df-536baf7b-94f0-4421-a48f-f89809b7b646');\n",
              "          const dataTable =\n",
              "            await google.colab.kernel.invokeFunction('convertToInteractive',\n",
              "                                                     [key], {});\n",
              "          if (!dataTable) return;\n",
              "\n",
              "          const docLinkHtml = 'Like what you see? Visit the ' +\n",
              "            '<a target=\"_blank\" href=https://colab.research.google.com/notebooks/data_table.ipynb>data table notebook</a>'\n",
              "            + ' to learn more about interactive tables.';\n",
              "          element.innerHTML = '';\n",
              "          dataTable['output_type'] = 'display_data';\n",
              "          await google.colab.output.renderOutput(dataTable, element);\n",
              "          const docLink = document.createElement('div');\n",
              "          docLink.innerHTML = docLinkHtml;\n",
              "          element.appendChild(docLink);\n",
              "        }\n",
              "      </script>\n",
              "    </div>\n",
              "  </div>\n",
              "  "
            ]
          },
          "metadata": {},
          "execution_count": 244
        }
      ]
    },
    {
      "cell_type": "markdown",
      "source": [
        "**Membersihkan Data**"
      ],
      "metadata": {
        "id": "fgThTGLs_dHN"
      }
    },
    {
      "cell_type": "code",
      "source": [
        "stop_words = stopwords.words('english')\n",
        "def clean(text):\n",
        "  text = text.str.lower() #Normalisasi data text\n",
        "  #Menghapus kombinasi unicode dan link yang terdapat pada data\n",
        "  text =text.replace('r\"(@\\[A-Za-z0-9]+)|([^0-9A-Za-z \\t])|(\\w+:\\/\\/,\\S+)|^rt|http.+?\"', value = ' ', regex = True)\n",
        "  text = text.str.replace(':','',regex=True)\n",
        "  text = text.str.replace('rt','',regex=True)\n",
        "  text = text.str.replace('\\d+', '',regex=True)\n",
        "  text = text.str.replace('pyzyb', '',regex=True)\n",
        "  text = text.str.replace('pbs', '',regex=True)\n",
        "  text = text.str.replace('wp', '',regex=True)\n",
        "  text = text.str.replace('via', '',regex=True)\n",
        "  text = text.str.replace('twimg', '',regex=True)\n",
        "  text = text.str.replace('jpg', '',regex=True)\n",
        "  text = text.str.replace('http', '',regex=True)\n",
        "  text = text.str.replace('ly', '',regex=True)\n",
        "  text = text.str.replace('ow', '',regex=True)\n",
        "  text = text.str.replace('bit', '',regex=True)\n",
        "  text = text.str.replace('get', '',regex=True)\n",
        "  text = text.str.replace('com', '',regex=True)\n",
        "  text = text.apply(lambda x: ' '.join([word for word in x.split() if word not in (stop_words)]))\n",
        "  #text = text.apply(stemmer.stem(text))\n",
        "\n",
        "\n",
        "  return text\n"
      ],
      "metadata": {
        "id": "7Yr7qVLR_hMy"
      },
      "execution_count": null,
      "outputs": []
    },
    {
      "cell_type": "code",
      "source": [
        "text=clean(data[5])\n",
        "test = text.to_frame()\n",
        "column = ['clean']\n",
        "test.columns=column\n",
        "test"
      ],
      "metadata": {
        "colab": {
          "base_uri": "https://localhost:8080/",
          "height": 423
        },
        "id": "J_vSUyuZAYWI",
        "outputId": "b1ff349e-5133-4e06-cf75-a13399719df1"
      },
      "execution_count": null,
      "outputs": [
        {
          "output_type": "execute_result",
          "data": {
            "text/plain": [
              "                                                  clean\n",
              "0     hard little cardio home kristinmcgee awesome p...\n",
              "1     beauty real e within discover wellness tips si...\n",
              "2        busted myths facts real need kn cellulite kiiy\n",
              "3     rid puffy tummy see best worst foods beat bloa...\n",
              "4     pill talk find perfect pill p pose handy guide...\n",
              "...                                                 ...\n",
              "7859     living pets may protect infants allergies ivjz\n",
              "7860  sarahcampus kn feeling fave l cal nibbles hold...\n",
              "7861  simple secret great sleep h deal mon sleep ste...\n",
              "7862  hot days call refreshing drinks whip fami figu...\n",
              "7863  msnhealth mediterranean volumetrics maybe dash...\n",
              "\n",
              "[7864 rows x 1 columns]"
            ],
            "text/html": [
              "\n",
              "  <div id=\"df-29807491-621f-4576-9e1d-24c4d62a0712\">\n",
              "    <div class=\"colab-df-container\">\n",
              "      <div>\n",
              "<style scoped>\n",
              "    .dataframe tbody tr th:only-of-type {\n",
              "        vertical-align: middle;\n",
              "    }\n",
              "\n",
              "    .dataframe tbody tr th {\n",
              "        vertical-align: top;\n",
              "    }\n",
              "\n",
              "    .dataframe thead th {\n",
              "        text-align: right;\n",
              "    }\n",
              "</style>\n",
              "<table border=\"1\" class=\"dataframe\">\n",
              "  <thead>\n",
              "    <tr style=\"text-align: right;\">\n",
              "      <th></th>\n",
              "      <th>clean</th>\n",
              "    </tr>\n",
              "  </thead>\n",
              "  <tbody>\n",
              "    <tr>\n",
              "      <th>0</th>\n",
              "      <td>hard little cardio home kristinmcgee awesome p...</td>\n",
              "    </tr>\n",
              "    <tr>\n",
              "      <th>1</th>\n",
              "      <td>beauty real e within discover wellness tips si...</td>\n",
              "    </tr>\n",
              "    <tr>\n",
              "      <th>2</th>\n",
              "      <td>busted myths facts real need kn cellulite kiiy</td>\n",
              "    </tr>\n",
              "    <tr>\n",
              "      <th>3</th>\n",
              "      <td>rid puffy tummy see best worst foods beat bloa...</td>\n",
              "    </tr>\n",
              "    <tr>\n",
              "      <th>4</th>\n",
              "      <td>pill talk find perfect pill p pose handy guide...</td>\n",
              "    </tr>\n",
              "    <tr>\n",
              "      <th>...</th>\n",
              "      <td>...</td>\n",
              "    </tr>\n",
              "    <tr>\n",
              "      <th>7859</th>\n",
              "      <td>living pets may protect infants allergies ivjz</td>\n",
              "    </tr>\n",
              "    <tr>\n",
              "      <th>7860</th>\n",
              "      <td>sarahcampus kn feeling fave l cal nibbles hold...</td>\n",
              "    </tr>\n",
              "    <tr>\n",
              "      <th>7861</th>\n",
              "      <td>simple secret great sleep h deal mon sleep ste...</td>\n",
              "    </tr>\n",
              "    <tr>\n",
              "      <th>7862</th>\n",
              "      <td>hot days call refreshing drinks whip fami figu...</td>\n",
              "    </tr>\n",
              "    <tr>\n",
              "      <th>7863</th>\n",
              "      <td>msnhealth mediterranean volumetrics maybe dash...</td>\n",
              "    </tr>\n",
              "  </tbody>\n",
              "</table>\n",
              "<p>7864 rows × 1 columns</p>\n",
              "</div>\n",
              "      <button class=\"colab-df-convert\" onclick=\"convertToInteractive('df-29807491-621f-4576-9e1d-24c4d62a0712')\"\n",
              "              title=\"Convert this dataframe to an interactive table.\"\n",
              "              style=\"display:none;\">\n",
              "        \n",
              "  <svg xmlns=\"http://www.w3.org/2000/svg\" height=\"24px\"viewBox=\"0 0 24 24\"\n",
              "       width=\"24px\">\n",
              "    <path d=\"M0 0h24v24H0V0z\" fill=\"none\"/>\n",
              "    <path d=\"M18.56 5.44l.94 2.06.94-2.06 2.06-.94-2.06-.94-.94-2.06-.94 2.06-2.06.94zm-11 1L8.5 8.5l.94-2.06 2.06-.94-2.06-.94L8.5 2.5l-.94 2.06-2.06.94zm10 10l.94 2.06.94-2.06 2.06-.94-2.06-.94-.94-2.06-.94 2.06-2.06.94z\"/><path d=\"M17.41 7.96l-1.37-1.37c-.4-.4-.92-.59-1.43-.59-.52 0-1.04.2-1.43.59L10.3 9.45l-7.72 7.72c-.78.78-.78 2.05 0 2.83L4 21.41c.39.39.9.59 1.41.59.51 0 1.02-.2 1.41-.59l7.78-7.78 2.81-2.81c.8-.78.8-2.07 0-2.86zM5.41 20L4 18.59l7.72-7.72 1.47 1.35L5.41 20z\"/>\n",
              "  </svg>\n",
              "      </button>\n",
              "      \n",
              "  <style>\n",
              "    .colab-df-container {\n",
              "      display:flex;\n",
              "      flex-wrap:wrap;\n",
              "      gap: 12px;\n",
              "    }\n",
              "\n",
              "    .colab-df-convert {\n",
              "      background-color: #E8F0FE;\n",
              "      border: none;\n",
              "      border-radius: 50%;\n",
              "      cursor: pointer;\n",
              "      display: none;\n",
              "      fill: #1967D2;\n",
              "      height: 32px;\n",
              "      padding: 0 0 0 0;\n",
              "      width: 32px;\n",
              "    }\n",
              "\n",
              "    .colab-df-convert:hover {\n",
              "      background-color: #E2EBFA;\n",
              "      box-shadow: 0px 1px 2px rgba(60, 64, 67, 0.3), 0px 1px 3px 1px rgba(60, 64, 67, 0.15);\n",
              "      fill: #174EA6;\n",
              "    }\n",
              "\n",
              "    [theme=dark] .colab-df-convert {\n",
              "      background-color: #3B4455;\n",
              "      fill: #D2E3FC;\n",
              "    }\n",
              "\n",
              "    [theme=dark] .colab-df-convert:hover {\n",
              "      background-color: #434B5C;\n",
              "      box-shadow: 0px 1px 3px 1px rgba(0, 0, 0, 0.15);\n",
              "      filter: drop-shadow(0px 1px 2px rgba(0, 0, 0, 0.3));\n",
              "      fill: #FFFFFF;\n",
              "    }\n",
              "  </style>\n",
              "\n",
              "      <script>\n",
              "        const buttonEl =\n",
              "          document.querySelector('#df-29807491-621f-4576-9e1d-24c4d62a0712 button.colab-df-convert');\n",
              "        buttonEl.style.display =\n",
              "          google.colab.kernel.accessAllowed ? 'block' : 'none';\n",
              "\n",
              "        async function convertToInteractive(key) {\n",
              "          const element = document.querySelector('#df-29807491-621f-4576-9e1d-24c4d62a0712');\n",
              "          const dataTable =\n",
              "            await google.colab.kernel.invokeFunction('convertToInteractive',\n",
              "                                                     [key], {});\n",
              "          if (!dataTable) return;\n",
              "\n",
              "          const docLinkHtml = 'Like what you see? Visit the ' +\n",
              "            '<a target=\"_blank\" href=https://colab.research.google.com/notebooks/data_table.ipynb>data table notebook</a>'\n",
              "            + ' to learn more about interactive tables.';\n",
              "          element.innerHTML = '';\n",
              "          dataTable['output_type'] = 'display_data';\n",
              "          await google.colab.output.renderOutput(dataTable, element);\n",
              "          const docLink = document.createElement('div');\n",
              "          docLink.innerHTML = docLinkHtml;\n",
              "          element.appendChild(docLink);\n",
              "        }\n",
              "      </script>\n",
              "    </div>\n",
              "  </div>\n",
              "  "
            ]
          },
          "metadata": {},
          "execution_count": 246
        }
      ]
    },
    {
      "cell_type": "markdown",
      "source": [
        "**Vectorizing Preparations**"
      ],
      "metadata": {
        "id": "vSBPwO2uAmHp"
      }
    },
    {
      "cell_type": "code",
      "source": [
        "from sklearn.feature_extraction.text import TfidfVectorizer,CountVectorizer"
      ],
      "metadata": {
        "id": "UVrm5rliAqrr"
      },
      "execution_count": null,
      "outputs": []
    },
    {
      "cell_type": "code",
      "source": [
        "vect =TfidfVectorizer(stop_words=stop_words,max_features=1000)\n",
        "\n",
        "vect_text=vect.fit_transform(test['clean'])"
      ],
      "metadata": {
        "id": "L26E4vZ6Augu"
      },
      "execution_count": null,
      "outputs": []
    },
    {
      "cell_type": "code",
      "source": [
        "print(vect_text.shape)\n",
        "print(vect_text)"
      ],
      "metadata": {
        "colab": {
          "base_uri": "https://localhost:8080/"
        },
        "id": "SuVvwA9dA1bR",
        "outputId": "d21c3c08-b64d-4f71-e24e-081d60434ef5"
      },
      "execution_count": null,
      "outputs": [
        {
          "output_type": "stream",
          "name": "stdout",
          "text": [
            "(7864, 1000)\n",
            "  (0, 552)\t0.33836662619739816\n",
            "  (0, 56)\t0.40713197018152497\n",
            "  (0, 461)\t0.3755503394310529\n",
            "  (0, 414)\t0.3390220553645054\n",
            "  (0, 129)\t0.4111716242542391\n",
            "  (0, 486)\t0.34381292179316136\n",
            "  (0, 386)\t0.42012872298585763\n",
            "  (1, 884)\t0.35656664599282756\n",
            "  (1, 963)\t0.4583935757794693\n",
            "  (1, 222)\t0.581515081839507\n",
            "  (1, 680)\t0.4115371572614874\n",
            "  (1, 71)\t0.3939707278921403\n",
            "  (2, 459)\t0.3131875100189071\n",
            "  (2, 567)\t0.3195101419997769\n",
            "  (2, 286)\t0.472273509123245\n",
            "  (2, 563)\t0.4429834848547021\n",
            "  (2, 111)\t0.5128335249228567\n",
            "  (2, 680)\t0.34285856146381605\n",
            "  (3, 87)\t0.4694709997008081\n",
            "  (3, 70)\t0.4211510345811668\n",
            "  (3, 327)\t0.2815892439948682\n",
            "  (3, 983)\t0.37128721594800806\n",
            "  (3, 77)\t0.3036215946089646\n",
            "  (3, 723)\t0.3151535592947147\n",
            "  (3, 911)\t0.43997073630196665\n",
            "  :\t:\n",
            "  (7861, 545)\t0.3546801132035158\n",
            "  (7861, 721)\t0.3797173734405423\n",
            "  (7861, 208)\t0.4109859145352694\n",
            "  (7861, 366)\t0.2859265683567447\n",
            "  (7861, 749)\t0.31440410603869623\n",
            "  (7861, 757)\t0.6168495499493447\n",
            "  (7862, 120)\t0.3284361518614355\n",
            "  (7862, 966)\t0.33390017258048255\n",
            "  (7862, 417)\t0.276619688248229\n",
            "  (7862, 176)\t0.30962639934311\n",
            "  (7862, 688)\t0.3131966649673892\n",
            "  (7862, 288)\t0.28197839551055537\n",
            "  (7862, 845)\t0.2641251832262277\n",
            "  (7862, 206)\t0.28012252572435486\n",
            "  (7862, 950)\t0.239660894083463\n",
            "  (7862, 237)\t0.307939284045519\n",
            "  (7862, 335)\t0.25642504011852973\n",
            "  (7862, 229)\t0.253773429419681\n",
            "  (7863, 555)\t0.43534557412383446\n",
            "  (7863, 514)\t0.4419221878350216\n",
            "  (7863, 556)\t0.4143429441444654\n",
            "  (7863, 571)\t0.3457674574374902\n",
            "  (7863, 217)\t0.2701710839837853\n",
            "  (7863, 631)\t0.4143429441444654\n",
            "  (7863, 77)\t0.2815516134237722\n"
          ]
        }
      ]
    },
    {
      "cell_type": "markdown",
      "source": [
        "**Topic Modelling**"
      ],
      "metadata": {
        "id": "IkpZjtcjA-ww"
      }
    },
    {
      "cell_type": "code",
      "source": [
        "from sklearn.decomposition import TruncatedSVD\n",
        "lsa_model = TruncatedSVD(n_components=10, algorithm='randomized', n_iter=10, random_state=42)\n",
        "lsa_top=lsa_model.fit_transform(vect_text)\n"
      ],
      "metadata": {
        "id": "g__2HYQiA8Qt"
      },
      "execution_count": null,
      "outputs": []
    },
    {
      "cell_type": "code",
      "source": [
        "print(lsa_top)\n",
        "print(lsa_top.shape)"
      ],
      "metadata": {
        "colab": {
          "base_uri": "https://localhost:8080/"
        },
        "id": "zXJdhMWvDQX3",
        "outputId": "cbec7b97-c937-4e44-ae07-aecefddafceb"
      },
      "execution_count": null,
      "outputs": [
        {
          "output_type": "stream",
          "name": "stdout",
          "text": [
            "[[ 0.05015199  0.0337679  -0.01924047 ... -0.04804079 -0.04618333\n",
            "   0.03393743]\n",
            " [ 0.09793378  0.05899726 -0.08920589 ...  0.02035334  0.01168181\n",
            "   0.01383199]\n",
            " [ 0.08014764  0.02920325 -0.05330205 ... -0.01402781  0.00022364\n",
            "  -0.00469563]\n",
            " ...\n",
            " [ 0.0674387   0.00858929 -0.01342785 ... -0.00610263 -0.00317654\n",
            "   0.00800937]\n",
            " [ 0.05750919  0.03318361  0.00684999 ... -0.00948512  0.013518\n",
            "  -0.00446474]\n",
            " [ 0.07402373  0.02944633 -0.0660435  ...  0.05480087 -0.00418943\n",
            "  -0.02558069]]\n",
            "(7864, 10)\n"
          ]
        }
      ]
    },
    {
      "cell_type": "code",
      "source": [
        "print"
      ],
      "metadata": {
        "id": "luDAbUnqJixf",
        "colab": {
          "base_uri": "https://localhost:8080/"
        },
        "outputId": "e142e303-61eb-4270-ed20-1993cd6805c9"
      },
      "execution_count": null,
      "outputs": [
        {
          "output_type": "execute_result",
          "data": {
            "text/plain": [
              "<function print>"
            ]
          },
          "metadata": {},
          "execution_count": 252
        }
      ]
    },
    {
      "cell_type": "code",
      "source": [
        "l=lsa_top[0]\n",
        "print(\"Document 0 :\")\n",
        "for i,topic in enumerate(l):\n",
        "  print(\"Topic \",i,\" : \",topic*100)"
      ],
      "metadata": {
        "colab": {
          "base_uri": "https://localhost:8080/"
        },
        "id": "gK80-79YDVRr",
        "outputId": "90cb7546-7eed-4ebb-d789-e00f73d1b006"
      },
      "execution_count": null,
      "outputs": [
        {
          "output_type": "stream",
          "name": "stdout",
          "text": [
            "Document 0 :\n",
            "Topic  0  :  5.015199056699924\n",
            "Topic  1  :  3.3767899840102826\n",
            "Topic  2  :  -1.9240465543163061\n",
            "Topic  3  :  -2.243950975028735\n",
            "Topic  4  :  0.8427440744990315\n",
            "Topic  5  :  -4.198245099753919\n",
            "Topic  6  :  2.2536193856965028\n",
            "Topic  7  :  -4.8040794736379215\n",
            "Topic  8  :  -4.6183328737336815\n",
            "Topic  9  :  3.393742640161621\n"
          ]
        }
      ]
    },
    {
      "cell_type": "code",
      "source": [
        "print(lsa_model.components_.shape)\n",
        "print(lsa_model.components_)"
      ],
      "metadata": {
        "colab": {
          "base_uri": "https://localhost:8080/"
        },
        "id": "KWW9x1LJDi5D",
        "outputId": "3145e52c-0fbb-4ae7-b1fd-53801c0c0a36"
      },
      "execution_count": null,
      "outputs": [
        {
          "output_type": "stream",
          "name": "stdout",
          "text": [
            "(10, 1000)\n",
            "[[ 5.14010562e-03  5.25755346e-03  4.57832523e-03 ...  1.22943558e-02\n",
            "   8.69906053e-03  7.90664632e-03]\n",
            " [ 4.81756524e-03  6.47271425e-05 -2.18416767e-04 ...  2.09211783e-02\n",
            "   1.65169314e-02  2.08700994e-02]\n",
            " [-8.21547333e-03 -5.59518456e-03 -4.33460147e-03 ...  2.30916144e-02\n",
            "   1.83684523e-02  2.56259539e-02]\n",
            " ...\n",
            " [ 2.50237477e-02  1.52005441e-03 -4.90645196e-04 ... -1.39330777e-03\n",
            "   2.67919890e-03  1.32019581e-02]\n",
            " [-2.79195834e-02 -3.57987610e-03 -3.59158600e-03 ...  1.09604338e-02\n",
            "  -5.44553077e-04 -2.65822675e-03]\n",
            " [ 5.26377754e-02 -4.74374367e-03 -2.88349323e-03 ... -2.64554899e-03\n",
            "  -7.81274210e-04 -3.70350241e-03]]\n"
          ]
        }
      ]
    },
    {
      "cell_type": "code",
      "source": [
        "vocab = vect.get_feature_names_out()\n",
        "\n",
        "for i, comp in enumerate(lsa_model.components_):\n",
        "  vocab_comp = zip(vocab, comp)\n",
        "  sorted_words = sorted(vocab_comp, key= lambda x:x[1], reverse=True)[:10]\n",
        "  print(\"Topic \"+str(i)+\": \")\n",
        "  for t in sorted_words:\n",
        "    print(t[0],end=\" \")\n",
        "  print(\"\\n\")"
      ],
      "metadata": {
        "colab": {
          "base_uri": "https://localhost:8080/"
        },
        "id": "x5-y8uSWDoAg",
        "outputId": "3867b504-ef4a-4f31-a15a-483e20b27920"
      },
      "execution_count": null,
      "outputs": [
        {
          "output_type": "stream",
          "name": "stdout",
          "text": [
            "Topic 0: \n",
            "cynthiasass goodhealth healthy amp weight health ways make try day \n",
            "\n",
            "Topic 1: \n",
            "recipe try day recipes healthy ways pinterest pin easy media \n",
            "\n",
            "Topic 2: \n",
            "recipe day try goodhealth healthy cynthiasass recipes amp salad chicken \n",
            "\n",
            "Topic 3: \n",
            "pinterest pin goodhealth recipe day cynthiasass amp calories foods fat \n",
            "\n",
            "Topic 4: \n",
            "chance enter sweepstakes win week holiday prizes prize grand dai \n",
            "\n",
            "Topic 5: \n",
            "health healthtotalwellness weekend canyonranch healthy recipes like us new thanks \n",
            "\n",
            "Topic 6: \n",
            "media health recipe time pinterest day kn goodhealth pin things \n",
            "\n",
            "Topic 7: \n",
            "day weight recipe lose diet loss help media year ways \n",
            "\n",
            "Topic 8: \n",
            "healthy media make recipes thanks diet people help food happy \n",
            "\n",
            "Topic 9: \n",
            "thanks healthtotalwellness new weekend us canyonranch talknutrition year workout time \n",
            "\n"
          ]
        }
      ]
    },
    {
      "cell_type": "markdown",
      "source": [
        "**WordCloud**"
      ],
      "metadata": {
        "id": "f26EAu7vD7cC"
      }
    },
    {
      "cell_type": "code",
      "source": [
        "from wordcloud import WordCloud\n",
        "# Generate a word cloud image for given topic\n",
        "def draw_word_cloud(index):\n",
        "  imp_words_topic=\"\"\n",
        "  comp=lsa_model.components_[index]\n",
        "  vocab_comp = zip(vocab, comp)\n",
        "  sorted_words = sorted(vocab_comp, key= lambda x:x[1], reverse=True)[:50]\n",
        "  for word in sorted_words:\n",
        "    imp_words_topic=imp_words_topic+\" \"+word[0]\n",
        "  wordcloud = WordCloud(width=600, height=400).generate(imp_words_topic)\n",
        "  plt.figure( figsize=(5,5))\n",
        "  plt.imshow(wordcloud)\n",
        "  plt.axis(\"off\")\n",
        "  plt.tight_layout()\n",
        "  plt.show()"
      ],
      "metadata": {
        "id": "IJ2RQcmVEAJf"
      },
      "execution_count": null,
      "outputs": []
    },
    {
      "cell_type": "code",
      "source": [
        "draw_word_cloud(1)"
      ],
      "metadata": {
        "id": "b26TwpfGEJBo",
        "outputId": "5b370043-5a81-4386-b768-77c87b2f4323",
        "colab": {
          "base_uri": "https://localhost:8080/",
          "height": 256
        }
      },
      "execution_count": null,
      "outputs": [
        {
          "output_type": "display_data",
          "data": {
            "text/plain": [
              "<Figure size 360x360 with 1 Axes>"
            ],
            "image/png": "[encoded data removed]"
          },
          "metadata": {
            "needs_background": "light"
          }
        }
      ]
    },
    {
      "cell_type": "code",
      "source": [
        "#MENAMPILKAN 10 TOPIK MODELING LSA\n",
        "vocab = vect.get_feature_names()\n",
        "for i, comp in enumerate(lsa_model.components_):\n",
        " vocab_comp = zip(vocab, comp)\n",
        " sorted_words = sorted(vocab_comp, key= lambda x:x[1], reverse=True)[:10]\n",
        " print(\"Topic \"+str(i)+\": \")\n",
        " for t in sorted_words:\n",
        "    print(t[0],end=\", \")\n",
        " print(\"\\n\")"
      ],
      "metadata": {
        "colab": {
          "base_uri": "https://localhost:8080/"
        },
        "id": "hgPIMvQvUEn7",
        "outputId": "b059c995-ac77-44dd-8c4a-6e608dd22e7e"
      },
      "execution_count": null,
      "outputs": [
        {
          "output_type": "stream",
          "name": "stdout",
          "text": [
            "Topic 0: \n",
            "cynthiasass, goodhealth, healthy, amp, weight, health, ways, make, try, day, \n",
            "\n",
            "Topic 1: \n",
            "recipe, try, day, recipes, healthy, ways, pinterest, pin, easy, media, \n",
            "\n",
            "Topic 2: \n",
            "recipe, day, try, goodhealth, healthy, cynthiasass, recipes, amp, salad, chicken, \n",
            "\n",
            "Topic 3: \n",
            "pinterest, pin, goodhealth, recipe, day, cynthiasass, amp, calories, foods, fat, \n",
            "\n",
            "Topic 4: \n",
            "chance, enter, sweepstakes, win, week, holiday, prizes, prize, grand, dai, \n",
            "\n",
            "Topic 5: \n",
            "health, healthtotalwellness, weekend, canyonranch, healthy, recipes, like, us, new, thanks, \n",
            "\n",
            "Topic 6: \n",
            "media, health, recipe, time, pinterest, day, kn, goodhealth, pin, things, \n",
            "\n",
            "Topic 7: \n",
            "day, weight, recipe, lose, diet, loss, help, media, year, ways, \n",
            "\n",
            "Topic 8: \n",
            "healthy, media, make, recipes, thanks, diet, people, help, food, happy, \n",
            "\n",
            "Topic 9: \n",
            "thanks, healthtotalwellness, new, weekend, us, canyonranch, talknutrition, year, workout, time, \n",
            "\n"
          ]
        },
        {
          "output_type": "stream",
          "name": "stderr",
          "text": [
            "/usr/local/lib/python3.8/dist-packages/sklearn/utils/deprecation.py:87: FutureWarning: Function get_feature_names is deprecated; get_feature_names is deprecated in 1.0 and will be removed in 1.2. Please use get_feature_names_out instead.\n",
            "  warnings.warn(msg, category=FutureWarning)\n"
          ]
        }
      ]
    },
    {
      "cell_type": "markdown",
      "source": [
        "Didapat 10 Topik utama:\n",
        "\n",
        "1. cynthiasass\n",
        "\n",
        "2. recipe\n",
        "\n",
        "3. recipe\n",
        "\n",
        "4. pinterest\n",
        "\n",
        "5. chance\n",
        "\n",
        "6. health\n",
        "\n",
        "7. media\n",
        "\n",
        "8. day\n",
        "\n",
        "9. healthy\n",
        "\n",
        "10. thanks"
      ],
      "metadata": {
        "id": "MKQ8Ph1WUz6l"
      }
    }
  ]
}